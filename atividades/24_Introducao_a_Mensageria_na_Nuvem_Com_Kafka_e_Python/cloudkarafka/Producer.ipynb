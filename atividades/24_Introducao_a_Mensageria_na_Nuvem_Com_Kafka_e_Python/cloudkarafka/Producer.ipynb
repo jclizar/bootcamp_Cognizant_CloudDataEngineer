{
  "cells": [
    {
      "cell_type": "markdown",
      "metadata": {},
      "source": [
        "# CloudKarafka - Producer\n",
        "\n",
        "site: <a href=\"https://www.cloudkarafka.com/\">CloudKarafka</a>\n",
        "\n",
        "github: <a href=\"https://github.com/huguinho-alves/python_aceleracao_everys\">https://github.com/huguinho-alves/python_aceleracao_everys</a>"
      ]
    },
    {
      "cell_type": "code",
      "execution_count": null,
      "metadata": {
        "colab": {
          "base_uri": "https://localhost:8080/"
        },
        "id": "DWeRO4SdEVW9",
        "outputId": "05fa6785-d583-443f-eca8-1c09abd8849e"
      },
      "outputs": [
        {
          "name": "stdout",
          "output_type": "stream",
          "text": [
            "Requirement already satisfied: confluent_kafka in /usr/local/lib/python3.6/dist-packages (1.5.0)\n"
          ]
        }
      ],
      "source": [
        "!pip install confluent_kafka"
      ]
    },
    {
      "cell_type": "code",
      "execution_count": null,
      "metadata": {
        "colab": {
          "base_uri": "https://localhost:8080/"
        },
        "id": "P_X71RFmEeez",
        "outputId": "19bd61e6-04d2-4d08-e058-17f673ae3d6a"
      },
      "outputs": [
        {
          "name": "stdout",
          "output_type": "stream",
          "text": [
            "init\n",
            "% Waiting for 1 deliveries\n",
            "\n",
            "%% Message delivered to %s [%d]\n",
            " ('25fi2ymi-default', 1)\n"
          ]
        }
      ],
      "source": [
        "import sys\n",
        "import os\n",
        "\n",
        "from confluent_kafka import Producer\n",
        "\n",
        "def delivery_callback(err, msg):\n",
        "    if err:\n",
        "        print('%% Message failed delivery: %s\\n', err)\n",
        "    else:\n",
        "        print('%% Message delivered to %s [%d]\\n',\n",
        "                          (msg.topic(), msg.partition()))\n",
        "\n",
        "def createTopic():\n",
        "    print(\"init\");\n",
        "    #topic = '25fi2ymi-topic1'\n",
        "    topic = '25fi2ymi-default'\n",
        "\n",
        "    # Consumer configuration\n",
        "    # See https://github.com/edenhill/librdkafka/blob/master/CONFIGURATION.md\n",
        "    conf = {\n",
        "        'bootstrap.servers': 'tricycle-01.srvs.cloudkafka.com:9094,tricycle-02.srvs.cloudkafka.com:9094,tricycle-03.srvs.cloudkafka.com:9094',\n",
        "        'session.timeout.ms': 6000,\n",
        "        'default.topic.config': {'auto.offset.reset': 'smallest'},\n",
        "        'security.protocol': 'SASL_SSL',\n",
        "\t'sasl.mechanisms': 'SCRAM-SHA-256',\n",
        "        'sasl.username': '25fi2ymi',\n",
        "        'sasl.password': 'owaqWZ8jve0rsct5yHS3l9xGGK1rIL82'\n",
        "    }\n",
        "\n",
        "    p = Producer(conf)\n",
        "\n",
        "    try:\n",
        "        p.produce(topic, \"my message new 2\", callback=delivery_callback)\n",
        "    except BufferError as e:\n",
        "        print('%% Local producer queue is full (%d messages awaiting delivery): try again\\n',\n",
        "                          len(p))\n",
        "    p.poll(0)\n",
        "\n",
        "    print('%% Waiting for %d deliveries\\n' % len(p))\n",
        "    p.flush()\n",
        "\n",
        "createTopic();"
      ]
    }
  ],
  "metadata": {
    "colab": {
      "name": "Producer.ipynb",
      "provenance": []
    },
    "kernelspec": {
      "display_name": "Python 3",
      "name": "python3"
    }
  },
  "nbformat": 4,
  "nbformat_minor": 0
}
