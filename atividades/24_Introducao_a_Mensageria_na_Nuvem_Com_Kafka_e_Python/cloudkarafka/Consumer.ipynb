{
  "cells": [
    {
      "cell_type": "markdown",
      "metadata": {},
      "source": [
        "# CloudKarafka - Consumer\n",
        "\n",
        "site: <a href=\"https://www.cloudkarafka.com/\">CloudKarafka</a>\n",
        "\n",
        "github: <a href=\"https://github.com/huguinho-alves/python_aceleracao_everys\">https://github.com/huguinho-alves/python_aceleracao_everys</a>"
      ]
    },
    {
      "cell_type": "code",
      "execution_count": null,
      "metadata": {
        "colab": {
          "base_uri": "https://localhost:8080/"
        },
        "id": "axGfpy9OH595",
        "outputId": "bb81412c-6557-4b77-bb38-ec2fe9fa278a"
      },
      "outputs": [
        {
          "name": "stdout",
          "output_type": "stream",
          "text": [
            "Requirement already satisfied: confluent_kafka in /usr/local/lib/python3.6/dist-packages (1.5.0)\n"
          ]
        }
      ],
      "source": [
        "!pip install confluent_kafka"
      ]
    },
    {
      "cell_type": "code",
      "execution_count": null,
      "metadata": {
        "colab": {
          "base_uri": "https://localhost:8080/"
        },
        "id": "aT7mYbrQISIW",
        "outputId": "fc8ba4d8-7891-45e3-bb68-590e6c173a70"
      },
      "outputs": [
        {
          "name": "stderr",
          "output_type": "stream",
          "text": [
            "% 25fi2ymi-default [1] at offset 1 with key None:\n"
          ]
        },
        {
          "name": "stdout",
          "output_type": "stream",
          "text": [
            "b'my message new 2'\n"
          ]
        },
        {
          "name": "stderr",
          "output_type": "stream",
          "text": [
            "%% Aborted by user\n"
          ]
        }
      ],
      "source": [
        "import sys\n",
        "import os\n",
        "\n",
        "from confluent_kafka import Consumer, KafkaException, KafkaError\n",
        "\n",
        "def createConsumer():\n",
        "\n",
        "    topics = ['25fi2ymi-default']\n",
        "\n",
        "    # Consumer configuration\n",
        "    # See https://github.com/edenhill/librdkafka/blob/master/CONFIGURATION.md\n",
        "    conf = {\n",
        "        'bootstrap.servers': 'tricycle-01.srvs.cloudkafka.com:9094,tricycle-02.srvs.cloudkafka.com:9094,tricycle-03.srvs.cloudkafka.com:9094',\n",
        "        'group.id': \"%s-consumer\" % '25fi2ymi',\n",
        "        'session.timeout.ms': 6000,\n",
        "        'default.topic.config': {'auto.offset.reset': 'smallest'},\n",
        "        'security.protocol': 'SASL_SSL',\n",
        "\t'sasl.mechanisms': 'SCRAM-SHA-256',\n",
        "        'sasl.username': '25fi2ymi',\n",
        "        'sasl.password': 'owaqWZ8jve0rsct5yHS3l9xGGK1rIL82'\n",
        "    }\n",
        "\n",
        "    c = Consumer(conf)\n",
        "    c.subscribe(topics)\n",
        "    try:\n",
        "        while True:\n",
        "            msg = c.poll(timeout=1.0)\n",
        "            if msg is None:\n",
        "                continue\n",
        "            if msg.error():\n",
        "                # Error or event\n",
        "                if msg.error().code() == KafkaError._PARTITION_EOF:\n",
        "                    # End of partition event\n",
        "                    sys.stderr.write('%% %s [%d] reached end at offset %d\\n' %\n",
        "                                     (msg.topic(), msg.partition(), msg.offset()))\n",
        "                elif msg.error():\n",
        "                    # Error\n",
        "                    raise KafkaException(msg.error())\n",
        "            else:\n",
        "                # Proper message\n",
        "                sys.stderr.write('%% %s [%d] at offset %d with key %s:\\n' %\n",
        "                                 (msg.topic(), msg.partition(), msg.offset(),\n",
        "                                  str(msg.key())))\n",
        "                print(msg.value())\n",
        "\n",
        "    except KeyboardInterrupt:\n",
        "        sys.stderr.write('%% Aborted by user\\n')\n",
        "\n",
        "    # Close down consumer to commit final offsets.\n",
        "    c.close()\n",
        "\n",
        "createConsumer()"
      ]
    }
  ],
  "metadata": {
    "colab": {
      "name": "Consumer.ipynb",
      "provenance": []
    },
    "kernelspec": {
      "display_name": "Python 3",
      "name": "python3"
    }
  },
  "nbformat": 4,
  "nbformat_minor": 0
}
