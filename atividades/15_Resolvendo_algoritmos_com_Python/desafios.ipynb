{
 "cells": [
  {
   "cell_type": "markdown",
   "source": [
    "# Desafios bootcamp Cognizant | DIO \r\n",
    "Jéssica Caroline Lizar <a href=\"https://github.com/jclizar\">jclizar</a>"
   ],
   "metadata": {}
  },
  {
   "cell_type": "markdown",
   "source": [
    "# 1 / 3 - Fibonacci Fácil\r\n",
    "\r\n",
    "> A seguinte sequência de números 0 1 1 2 3 5 8 13 21... é conhecida como série de Fibonacci. Nessa sequência, cada número, depois dos 2 primeiros, é igual à soma dos 2 anteriores. Escreva um algoritmo que leia um inteiro N (N < 46) e mostre os N primeiros números dessa série.\r\n",
    "\r\n",
    "Entrada:\r\n",
    "- O arquivo de entrada contém um valor inteiro N (0 < N < 46).\r\n",
    "\r\n",
    "Saída:\r\n",
    "- Os valores devem ser mostrados na mesma linha, separados por um espaço em branco. Não deve haver espaço após o último valor.\r\n",
    "\r\n",
    "Exemplo \r\n",
    "- entrada: 5\r\n",
    "- saída: 0 1 1 2 3\r\n",
    "\r\n",
    "<!--\r\n",
    "n = int(input())\r\n",
    "fib_list = [     ]\r\n",
    "n = n - 1\r\n",
    "for i in range(      ):\r\n",
    "    fib_list.append(     )\r\n",
    "\r\n",
    "fib_string = ' '.join(     )\r\n",
    "print(fib_string)\r\n",
    "-->\r\n",
    "\r\n",
    "Agradecimentos a Cássio F."
   ],
   "metadata": {}
  },
  {
   "cell_type": "code",
   "execution_count": 10,
   "source": [
    "#VERIFICADO teste da DIO\r\n",
    "\r\n",
    "while True:\r\n",
    "  try:\r\n",
    "    n = int(input())\r\n",
    "    if n > 0 and n < 46:\r\n",
    "      break\r\n",
    "    else:\r\n",
    "      print(\"input: 0 < n < 46\")\r\n",
    "  except BaseException as ex:\r\n",
    "      print(ex)\r\n",
    "\r\n",
    "fib_list=[0]\r\n",
    "n=n-1\r\n",
    "\r\n",
    "for i in range(n):\r\n",
    "    if i <2:\r\n",
    "        fib_list.append(1)\r\n",
    "    else:        \r\n",
    "        fib_list.append(fib_list[-1] + fib_list[-2])\r\n",
    "\r\n",
    "fib_list = [str(x) for x in fib_list]\r\n",
    "fib_string = ' '.join(fib_list)\r\n",
    "print(fib_string)"
   ],
   "outputs": [
    {
     "output_type": "stream",
     "name": "stdout",
     "text": [
      "0 1 1 2 3\n"
     ]
    }
   ],
   "metadata": {}
  },
  {
   "cell_type": "markdown",
   "source": [
    "# 2 / 3 - Exibindo Números Pares\r\n",
    "\r\n",
    "> Crie um programa que leia um número e mostre os números pares até esse número, inclusive ele mesmo.\r\n",
    "\r\n",
    "Entrada:\r\n",
    "- Você receberá 1 valor inteiro N, onde N > 0.\r\n",
    "\r\n",
    "Saída:\r\n",
    "- Exiba todos os números pares até o valor de entrada, sendo um em cada linha.\r\n",
    "\r\n",
    "Exemplo\r\n",
    "<pre>\r\n",
    "- entrada:\r\n",
    "            6\r\n",
    "- saida: \r\n",
    "            2\r\n",
    "            4\r\n",
    "            6\r\n",
    "</pre>\r\n",
    "<!-- \r\n",
    "for i in range(  ):\r\n",
    "    print(i)\r\n",
    "-->"
   ],
   "metadata": {}
  },
  {
   "cell_type": "code",
   "execution_count": 11,
   "source": [
    "#VERIFICADO teste da DIO\r\n",
    "\r\n",
    "while True:\r\n",
    "  try:\r\n",
    "    n = int(input())\r\n",
    "    if n > 0:\r\n",
    "      break\r\n",
    "    else:\r\n",
    "      print(\"input: n > 0\")\r\n",
    "  except BaseException as ex:\r\n",
    "      print(ex)\r\n",
    "\r\n",
    "for i in range(n+1):\r\n",
    "    if i%2 == 0 and i != 0:\r\n",
    "        print(i)"
   ],
   "outputs": [
    {
     "output_type": "stream",
     "name": "stdout",
     "text": [
      "2\n",
      "4\n",
      "6\n"
     ]
    }
   ],
   "metadata": {}
  },
  {
   "cell_type": "markdown",
   "source": [
    "# 3 / 3 - A Resposta de Theon\r\n",
    "\r\n",
    "\r\n",
    "Ramsay: \"(...) você vence se conseguir adivinhar quem eu sou e por que estou torturando você.\"\r\n",
    "\r\n",
    "Theon deve pensar rápido e adivinhar quem é seu algoz! Entretanto, Ramsay já decidiu o que ele irá fazer depois que Theon der sua resposta.\r\n",
    "\r\n",
    "Theon pode dizer que seu algoz é alguma dentre N pessoas. Considere que as pessoas são numeradas de 1 a N. Se Theon responder que seu algoz é a pessoa i, Ramsay irá atingi-lo Ti vezes.\r\n",
    "\r\n",
    "Sua tarefa é ajudar Theon a determinar qual deve ser sua resposta de forma a minimizar o número de vezes que ele será atingido.\r\n",
    "\r\n",
    "Entrada\r\n",
    "- A primeira linha contém um inteiro N (1 ≤ N ≤ 100). A segunda linha contém N inteiros T1, T2, ..., TN (0 ≤ Ti ≤ 20).\r\n",
    "\r\n",
    "Saída\r\n",
    "- Imprima uma linha contendo o número da pessoa que Theon deve dizer ser seu algoz. Se existe mais de uma resposta possível, imprima a menor.\r\n",
    "\r\n",
    "<pre>\r\n",
    "Exemplos de Entrada \tExemplos de Saída\r\n",
    "\r\n",
    "3                                2\r\n",
    "8 0 7\r\n",
    "\t \r\n",
    "\r\n",
    "2                                1\r\n",
    "1 1\r\n",
    "</pre>\r\n",
    "\r\n",
    "Escola de Inverno da Maratona - Erechim RS - 2015\r\n",
    "\r\n",
    "<!--# base\r\n",
    "N = int(input())\r\n",
    "persons = list(  )\r\n",
    "\r\n",
    "lowest_pos = 0\r\n",
    "for i in range(N):\r\n",
    "    if i == 0:\r\n",
    "        lowest = \r\n",
    "        continue\r\n",
    "    if              <              \r\n",
    "        lowest = persons[i]\r\n",
    "                  = i\r\n",
    "print(     + 1)-->"
   ],
   "metadata": {}
  },
  {
   "cell_type": "code",
   "execution_count": 12,
   "source": [
    "#VERIFICADO teste da DIO\r\n",
    "\r\n",
    "N = int(input())\r\n",
    "\r\n",
    "persons = list(map(int,input().split()))\r\n",
    "lowest = min(persons)\r\n",
    "\r\n",
    "print(persons.index(lowest) + 1)"
   ],
   "outputs": [
    {
     "output_type": "stream",
     "name": "stdout",
     "text": [
      "2\n"
     ]
    }
   ],
   "metadata": {}
  },
  {
   "cell_type": "markdown",
   "source": [
    "Outras tentativas"
   ],
   "metadata": {}
  },
  {
   "cell_type": "code",
   "execution_count": 10,
   "source": [
    "# Parece correto, mas não passa no teste da DIO\r\n",
    "# passa no teste do URI https://www.urionlinejudge.com.br/judge/pt/problems/view/1858\r\n",
    "\r\n",
    "while True:\r\n",
    "    try:\r\n",
    "        N = int(input())\r\n",
    "        if N >= 1 and N <= 100:\r\n",
    "            break\r\n",
    "        else:\r\n",
    "            print(\"1 <= N <= 100\")\r\n",
    "    except BaseException as ex:\r\n",
    "        print(ex)\r\n",
    "\r\n",
    "while True:\r\n",
    "    try:\r\n",
    "        listaTi = [x for x in range(21)]\r\n",
    "        persons = [i for i in map(int,input().split())]\r\n",
    "        if len(persons) == N:\r\n",
    "            if all(elem in listaTi for elem in persons) == True:\r\n",
    "                break\r\n",
    "            else:\r\n",
    "                print(\"0<=T<=20\")\r\n",
    "        else:\r\n",
    "            print(\"len(T) != N\")\r\n",
    "    except BaseException as ex:\r\n",
    "            print(ex)\r\n",
    "        \r\n",
    "lowest = min(persons)\r\n",
    "print(persons.index(lowest) + 1)"
   ],
   "outputs": [
    {
     "output_type": "stream",
     "name": "stdout",
     "text": [
      "2\n"
     ]
    }
   ],
   "metadata": {}
  },
  {
   "cell_type": "code",
   "execution_count": 11,
   "source": [
    "# Parece correto, mas não passa no teste da DIO\r\n",
    "# passa no teste do URI https://www.urionlinejudge.com.br/judge/pt/problems/view/1858\r\n",
    "while True:\r\n",
    "    try:\r\n",
    "        N = int(input())\r\n",
    "        if N >= 1 and N <= 100:\r\n",
    "            break\r\n",
    "        else:\r\n",
    "            print(\"1 <= N <= 100\")\r\n",
    "    except BaseException as ex:\r\n",
    "        print(ex)\r\n",
    "\r\n",
    "    \r\n",
    "while True:\r\n",
    "    try:\r\n",
    "        listaTi = [x for x in range(21)]\r\n",
    "        persons = [i for i in map(int,input().split())]\r\n",
    "        if len(persons) == N:\r\n",
    "            if all(elem in listaTi for elem in persons) == True:\r\n",
    "                break\r\n",
    "            else:\r\n",
    "                print(\"0<=T<=20\")\r\n",
    "        else:\r\n",
    "            print(\"len(T) != N\")\r\n",
    "    except BaseException as ex:\r\n",
    "            print(ex)\r\n",
    "\r\n",
    "\r\n",
    "lowest_pos = 0\r\n",
    "for i in range(N):\r\n",
    "    if i == 0:\r\n",
    "        lowest = persons[i]\r\n",
    "        continue\r\n",
    "    if persons[i] < lowest:         \r\n",
    "        lowest = persons[i]\r\n",
    "        lowest_pos= i\r\n",
    "print(lowest_pos+ 1)"
   ],
   "outputs": [
    {
     "output_type": "stream",
     "name": "stdout",
     "text": [
      "2\n"
     ]
    }
   ],
   "metadata": {}
  }
 ],
 "metadata": {
  "orig_nbformat": 4,
  "language_info": {
   "name": "python",
   "version": "3.9.1",
   "mimetype": "text/x-python",
   "codemirror_mode": {
    "name": "ipython",
    "version": 3
   },
   "pygments_lexer": "ipython3",
   "nbconvert_exporter": "python",
   "file_extension": ".py"
  },
  "kernelspec": {
   "name": "python3",
   "display_name": "Python 3.9.1 64-bit"
  },
  "interpreter": {
   "hash": "0bb2de7f6ce245efaf5538710d09b450f3fea64fa52bc4adc28f8e6b3e713f94"
  }
 },
 "nbformat": 4,
 "nbformat_minor": 2
}